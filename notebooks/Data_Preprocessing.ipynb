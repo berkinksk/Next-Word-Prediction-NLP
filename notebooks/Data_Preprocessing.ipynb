{
 "cells": [
  {
   "cell_type": "code",
   "execution_count": 18,
   "id": "39ccf76f",
   "metadata": {},
   "outputs": [],
   "source": [
    "import re"
   ]
  },
  {
   "cell_type": "code",
   "execution_count": 19,
   "id": "cba673c6",
   "metadata": {},
   "outputs": [
    {
     "name": "stdout",
     "output_type": "stream",
     "text": [
      "Length of text: 2653069\n"
     ]
    }
   ],
   "source": [
    "file_list = [\n",
    "    \"sherlock_holmes.txt\",\n",
    "    \"moby_dick.txt\",\n",
    "    \"pride_and_prejudice.txt\",\n",
    "    \"alice_in_wonderland.txt\"\n",
    "]\n",
    "\n",
    "combined_text = \"\"\n",
    "\n",
    "for filename in file_list:\n",
    "    with open(f\"../data/{filename}\", 'r', encoding='utf-8') as file:\n",
    "        content = file.read()\n",
    "        combined_text += content + \" \"\n",
    "print(\"Length of text:\", len(combined_text))"
   ]
  },
  {
   "cell_type": "code",
   "execution_count": 20,
   "id": "a8bfbde4",
   "metadata": {},
   "outputs": [],
   "source": [
    "combined_text = combined_text.lower()"
   ]
  },
  {
   "cell_type": "code",
   "execution_count": 21,
   "id": "2a8304aa",
   "metadata": {},
   "outputs": [
    {
     "name": "stdout",
     "output_type": "stream",
     "text": [
      "the adventures of sherlock holmes by arthur conan doyle contents i a scandal in bohemia ii the redheaded league iii a case of identity iv the boscombe valley mystery v the five orange pips vi the man with the twisted lip vii the adventure of the blue carbuncle viii the adventure of the speckled band ix the adventure of the engineers thumb x the adventure of the noble bachelor xi the adventure of the beryl coronet xii the adventure of the copper beeches i a scandal in bohemia i to sherlock holmes\n"
     ]
    }
   ],
   "source": [
    "# Removing punctuation (keeping apostrophes)\n",
    "combined_text = re.sub(r\"[^a-z0-9'\\s]\", '', combined_text)\n",
    "\n",
    "# Replacing multiple spaces with a single space\n",
    "combined_text = re.sub(r'\\s+', ' ', combined_text).strip()\n",
    "\n",
    "print(combined_text[:500])"
   ]
  },
  {
   "cell_type": "code",
   "execution_count": 22,
   "id": "2bf3559b",
   "metadata": {},
   "outputs": [
    {
     "name": "stdout",
     "output_type": "stream",
     "text": [
      "Total tokens after combining: 470913\n",
      "First 50 tokens: ['the', 'adventures', 'of', 'sherlock', 'holmes', 'by', 'arthur', 'conan', 'doyle', 'contents', 'i', 'a', 'scandal', 'in', 'bohemia', 'ii', 'the', 'redheaded', 'league', 'iii', 'a', 'case', 'of', 'identity', 'iv', 'the', 'boscombe', 'valley', 'mystery', 'v', 'the', 'five', 'orange', 'pips', 'vi', 'the', 'man', 'with', 'the', 'twisted', 'lip', 'vii', 'the', 'adventure', 'of', 'the', 'blue', 'carbuncle', 'viii', 'the']\n"
     ]
    }
   ],
   "source": [
    "# Tokenizing\n",
    "all_tokens = combined_text.split()\n",
    "\n",
    "print(\"Total tokens after combining:\", len(all_tokens))\n",
    "print(\"First 50 tokens:\", all_tokens[:50])"
   ]
  },
  {
   "cell_type": "code",
   "execution_count": null,
   "id": "47db97af",
   "metadata": {},
   "outputs": [],
   "source": []
  },
  {
   "cell_type": "code",
   "execution_count": 23,
   "id": "8bb6d264",
   "metadata": {},
   "outputs": [],
   "source": [
    "import json\n",
    "\n",
    "with open('../data/combined_tokens.json', 'w', encoding='utf-8') as outfile:\n",
    "    json.dump(all_tokens, outfile)"
   ]
  },
  {
   "cell_type": "code",
   "execution_count": 24,
   "id": "8f9337d8",
   "metadata": {},
   "outputs": [],
   "source": [
    "from collections import defaultdict, Counter\n",
    "\n",
    "def generate_bigrams(tokens):\n",
    "    bigrams = []\n",
    "\n",
    "    for i in range(len(tokens) - 1):\n",
    "        bigrams.append((tokens[i], tokens[i+1]))\n",
    "    return bigrams"
   ]
  },
  {
   "cell_type": "code",
   "execution_count": 26,
   "id": "7bdc06aa",
   "metadata": {},
   "outputs": [
    {
     "name": "stdout",
     "output_type": "stream",
     "text": [
      "First 10 bigrams: [('the', 'adventures'), ('adventures', 'of'), ('of', 'sherlock'), ('sherlock', 'holmes'), ('holmes', 'by'), ('by', 'arthur'), ('arthur', 'conan'), ('conan', 'doyle'), ('doyle', 'contents'), ('contents', 'i')]\n"
     ]
    }
   ],
   "source": [
    "bigrams = generate_bigrams(all_tokens)\n",
    "print(\"First 10 bigrams:\", bigrams[:10])"
   ]
  },
  {
   "cell_type": "code",
   "execution_count": 29,
   "id": "fd2df1f6",
   "metadata": {},
   "outputs": [],
   "source": [
    "def build_bigram_model(all_tokens):\n",
    "    model = defaultdict(Counter)\n",
    "    bigram_list = generate_bigrams(all_tokens)\n",
    "    for w1, w2 in bigram_list:\n",
    "        model[w1][w2] += 1\n",
    "    return model"
   ]
  },
  {
   "cell_type": "code",
   "execution_count": 30,
   "id": "68a934b4",
   "metadata": {},
   "outputs": [],
   "source": [
    "def predict_next_word_bigram(model, word):\n",
    "    if word not in model:\n",
    "        return None\n",
    "    return model[word].most_common(1)[0][0]"
   ]
  },
  {
   "cell_type": "code",
   "execution_count": 31,
   "id": "d8748f95",
   "metadata": {},
   "outputs": [],
   "source": [
    "def generate_trigrams(all_tokens):\n",
    "    trigrams = []\n",
    "    for i in range(len(all_tokens) - 2):\n",
    "        trigrams.append((all_tokens[i], all_tokens[i+1], all_tokens[i+2]))\n",
    "    return trigrams"
   ]
  },
  {
   "cell_type": "code",
   "execution_count": 32,
   "id": "4baed1fa",
   "metadata": {},
   "outputs": [],
   "source": [
    "def build_trigram_model(all_tokens):\n",
    "    model = defaultdict(Counter)\n",
    "    trigram_list = generate_trigrams(all_tokens)\n",
    "    for w1, w2, w3 in trigram_list:\n",
    "        model[(w1, w2)][w3] += 1\n",
    "    return model"
   ]
  },
  {
   "cell_type": "code",
   "execution_count": 33,
   "id": "ee8a5a91",
   "metadata": {},
   "outputs": [],
   "source": [
    "def predict_next_word_trigram(model, word1, word2):\n",
    "    if (word1, word2) not in model:\n",
    "        return None\n",
    "    return model[(word1, word2)].most_common(1)[0][0]"
   ]
  },
  {
   "cell_type": "code",
   "execution_count": 34,
   "id": "9a241a3f",
   "metadata": {},
   "outputs": [],
   "source": [
    "# Building bigram and trigram models\n",
    "bigram_model = build_bigram_model(all_tokens)\n",
    "trigram_model = build_trigram_model(all_tokens)"
   ]
  },
  {
   "cell_type": "code",
   "execution_count": 35,
   "id": "9c70743b",
   "metadata": {},
   "outputs": [
    {
     "name": "stdout",
     "output_type": "stream",
     "text": [
      "Bigram prediction for 'sherlock': holmes\n"
     ]
    }
   ],
   "source": [
    "# Next word prediction for bigram\n",
    "test_word_bigram = \"sherlock\"\n",
    "predicted_bigram = predict_next_word_bigram(bigram_model, test_word_bigram)\n",
    "print(f\"Bigram prediction for '{test_word_bigram}': {predicted_bigram}\")"
   ]
  },
  {
   "cell_type": "code",
   "execution_count": 36,
   "id": "3e463868",
   "metadata": {},
   "outputs": [
    {
     "name": "stdout",
     "output_type": "stream",
     "text": [
      "Trigram prediction for '('sherlock', 'holmes')': was\n"
     ]
    }
   ],
   "source": [
    "# Next word prediction for trigram\n",
    "test_words_trigram = (\"sherlock\", \"holmes\")\n",
    "predicted_trigram = predict_next_word_trigram(trigram_model, test_words_trigram[0], test_words_trigram[1])\n",
    "print(f\"Trigram prediction for '{test_words_trigram}': {predicted_trigram}\")"
   ]
  },
  {
   "cell_type": "code",
   "execution_count": 37,
   "id": "fa22e5b4",
   "metadata": {},
   "outputs": [
    {
     "name": "stdout",
     "output_type": "stream",
     "text": [
      "Bigram generated sentence: sherlock holmes i have been a little of the whale\n"
     ]
    }
   ],
   "source": [
    "def generate_sentence_bigram(model, start_word, length=10):\n",
    "    sentence = [start_word]\n",
    "    current_word = start_word\n",
    "    \n",
    "    for _ in range(length - 1):\n",
    "        next_word = predict_next_word_bigram(model, current_word)\n",
    "        if not next_word:\n",
    "            break\n",
    "        sentence.append(next_word)\n",
    "        current_word = next_word\n",
    "    \n",
    "    return ' '.join(sentence)\n",
    "\n",
    "# Example\n",
    "generated_bigram_sentence = generate_sentence_bigram(bigram_model, 'sherlock', 10)\n",
    "print(\"Bigram generated sentence:\", generated_bigram_sentence)"
   ]
  },
  {
   "cell_type": "code",
   "execution_count": 38,
   "id": "7dafcfcc",
   "metadata": {},
   "outputs": [
    {
     "name": "stdout",
     "output_type": "stream",
     "text": [
      "Trigram generated sentence: sherlock holmes was not a word of command he was\n"
     ]
    }
   ],
   "source": [
    "def generate_sentence_trigram(model, start_word1, start_word2, length=10):\n",
    "    sentence = [start_word1, start_word2]\n",
    "    w1, w2 = start_word1, start_word2\n",
    "    \n",
    "    for _ in range(length - 2):\n",
    "        next_word = predict_next_word_trigram(model, w1, w2)\n",
    "        if not next_word:\n",
    "            break\n",
    "        sentence.append(next_word)\n",
    "        w1, w2 = w2, next_word\n",
    "    \n",
    "    return ' '.join(sentence)\n",
    "\n",
    "# Example\n",
    "generated_trigram_sentence = generate_sentence_trigram(trigram_model, 'sherlock', 'holmes', 10)\n",
    "print(\"Trigram generated sentence:\", generated_trigram_sentence)"
   ]
  },
  {
   "cell_type": "code",
   "execution_count": 39,
   "id": "8bacf818",
   "metadata": {},
   "outputs": [
    {
     "data": {
      "image/png": "[encoded data removed]",
      "text/plain": [
       "<Figure size 576x288 with 1 Axes>"
      ]
     },
     "metadata": {
      "needs_background": "light"
     },
     "output_type": "display_data"
    },
    {
     "data": {
      "image/png": "[encoded data removed]",
      "text/plain": [
       "<Figure size 576x288 with 1 Axes>"
      ]
     },
     "metadata": {
      "needs_background": "light"
     },
     "output_type": "display_data"
    }
   ],
   "source": [
    "import matplotlib.pyplot as plt\n",
    "\n",
    "def plot_bigram_distribution(model, word, top_n=5):\n",
    "    \"\"\"\n",
    "    Plot the frequency distribution of the top 'top_n' predicted next words for a given single word (bigram).\n",
    "    \"\"\"\n",
    "    if word not in model:\n",
    "        print(f\"No predictions for '{word}' found in the bigram model.\")\n",
    "        return\n",
    "    \n",
    "    most_common = model[word].most_common(top_n)\n",
    "    words, counts = zip(*most_common)\n",
    "    \n",
    "    plt.figure(figsize=(8, 4))\n",
    "    plt.bar(words, counts, color='skyblue')\n",
    "    plt.title(f\"Top {top_n} Bigram Predictions for '{word}'\")\n",
    "    plt.xlabel(\"Predicted Words\")\n",
    "    plt.ylabel(\"Frequency\")\n",
    "    plt.show()\n",
    "\n",
    "def plot_trigram_distribution(model, word1, word2, top_n=5):\n",
    "    \"\"\"\n",
    "    Plot the frequency distribution of the top 'top_n' predicted next words for a given word pair (trigram).\n",
    "    \"\"\"\n",
    "    if (word1, word2) not in model:\n",
    "        print(f\"No predictions for '{word1} {word2}' found in the trigram model.\")\n",
    "        return\n",
    "    \n",
    "    most_common = model[(word1, word2)].most_common(top_n)\n",
    "    words, counts = zip(*most_common)\n",
    "    \n",
    "    plt.figure(figsize=(8, 4))\n",
    "    plt.bar(words, counts, color='lightgreen')\n",
    "    plt.title(f\"Top {top_n} Trigram Predictions for '{word1} {word2}'\")\n",
    "    plt.xlabel(\"Predicted Words\")\n",
    "    plt.ylabel(\"Frequency\")\n",
    "    plt.show()\n",
    "\n",
    "# Visualizing\n",
    "plot_bigram_distribution(bigram_model, \"sherlock\", top_n=5)\n",
    "plot_trigram_distribution(trigram_model, \"sherlock\", \"holmes\", top_n=5)"
   ]
  },
  {
   "cell_type": "code",
   "execution_count": 40,
   "id": "f7d4d79f",
   "metadata": {},
   "outputs": [
    {
     "name": "stdout",
     "output_type": "stream",
     "text": [
      "Enter a word for bigram prediction: dr\n",
      "Bigram prediction for 'dr': grimesby\n"
     ]
    }
   ],
   "source": [
    "# Interactive bigram next word prediction\n",
    "\n",
    "user_word = input(\"Enter a word for bigram prediction: \").strip().lower()\n",
    "\n",
    "predicted_bigram = predict_next_word_bigram(bigram_model, user_word)\n",
    "\n",
    "if predicted_bigram:\n",
    "    print(f\"Bigram prediction for '{user_word}': {predicted_bigram}\")\n",
    "else:\n",
    "    print(f\"No prediction available for '{user_word}' in the bigram model.\")"
   ]
  },
  {
   "cell_type": "code",
   "execution_count": 41,
   "id": "eefc3768",
   "metadata": {},
   "outputs": [
    {
     "name": "stdout",
     "output_type": "stream",
     "text": [
      "Enter two words (separated by a space) for trigram prediction: oh my\n",
      "Trigram prediction for 'oh my': dear\n"
     ]
    }
   ],
   "source": [
    "# Interactive trigram next word prediction\n",
    "\n",
    "input_text = input(\"Enter two words (separated by a space) for trigram prediction: \").strip().lower()\n",
    "\n",
    "words = input_text.split()\n",
    "\n",
    "if len(words) < 2:\n",
    "    print(\"Please enter at least two words.\")\n",
    "else:\n",
    "    predicted_trigram = predict_next_word_trigram(trigram_model, words[0], words[1])\n",
    "    \n",
    "    if predicted_trigram:\n",
    "        print(f\"Trigram prediction for '{words[0]} {words[1]}': {predicted_trigram}\")\n",
    "    else:\n",
    "        print(f\"No prediction available for '{words[0]} {words[1]}' in the trigram model.\")"
   ]
  },
  {
   "cell_type": "code",
   "execution_count": 42,
   "id": "9ed8ce77",
   "metadata": {},
   "outputs": [],
   "source": [
    "def evaluate_bigram_accuracy(model, test_tokens):\n",
    "    correct = 0\n",
    "    total = 0\n",
    "    \n",
    "    for i in range(len(test_tokens) - 1):\n",
    "        current_word = test_tokens[i]\n",
    "        actual_next = test_tokens[i + 1]\n",
    "        predicted_next = predict_next_word_bigram(model, current_word)\n",
    "        if predicted_next is not None:\n",
    "            total += 1\n",
    "            if predicted_next == actual_next:\n",
    "                correct += 1\n",
    "    \n",
    "    return correct / total if total > 0 else 0.0"
   ]
  },
  {
   "cell_type": "code",
   "execution_count": 43,
   "id": "7aac926f",
   "metadata": {},
   "outputs": [],
   "source": [
    "def evaluate_trigram_accuracy(model, test_tokens):\n",
    "    correct = 0\n",
    "    total = 0\n",
    "    \n",
    "    for i in range(len(test_tokens) - 2):\n",
    "        w1, w2 = test_tokens[i], test_tokens[i+1]\n",
    "        actual_next = test_tokens[i+2]\n",
    "        predicted_next = predict_next_word_trigram(model, w1, w2)\n",
    "        if predicted_next is not None:\n",
    "            total += 1\n",
    "            if predicted_next == actual_next:\n",
    "                correct += 1\n",
    "    \n",
    "    return correct / total if total > 0 else 0.0"
   ]
  },
  {
   "cell_type": "code",
   "execution_count": 44,
   "id": "6e7ac538",
   "metadata": {},
   "outputs": [],
   "source": [
    "# Splitting tokens into training (80%) and test (20%)\n",
    "split_index = int(0.8 * len(all_tokens))\n",
    "train_tokens = all_tokens[:split_index]\n",
    "test_tokens = all_tokens[split_index:]"
   ]
  },
  {
   "cell_type": "code",
   "execution_count": 45,
   "id": "f5008010",
   "metadata": {},
   "outputs": [
    {
     "name": "stdout",
     "output_type": "stream",
     "text": [
      "Bigram Accuracy on combined test set: 0.10879401074160473\n",
      "Trigram Accuracy on combined test set: 0.11338467413441955\n"
     ]
    }
   ],
   "source": [
    "# Building models on training data\n",
    "bigram_model_train = build_bigram_model(train_tokens)\n",
    "trigram_model_train = build_trigram_model(train_tokens)\n",
    "\n",
    "# Evaluating on test data\n",
    "bigram_acc = evaluate_bigram_accuracy(bigram_model_train, test_tokens)\n",
    "trigram_acc = evaluate_trigram_accuracy(trigram_model_train, test_tokens)\n",
    "\n",
    "print(\"Bigram Accuracy on combined test set:\", bigram_acc)\n",
    "print(\"Trigram Accuracy on combined test set:\", trigram_acc)"
   ]
  },
  {
   "cell_type": "code",
   "execution_count": 46,
   "id": "b2affda4",
   "metadata": {},
   "outputs": [],
   "source": [
    "# Defining the Add-One (Laplace) smoothing functions for the bigram model\n",
    "\n",
    "from collections import defaultdict, Counter\n",
    "\n",
    "def build_bigram_model_addone(tokens):\n",
    "    model = defaultdict(Counter)\n",
    "    vocab = set(tokens)\n",
    "    \n",
    "    for i in range(len(tokens) - 1):\n",
    "        word1 = tokens[i]\n",
    "        word2 = tokens[i + 1]\n",
    "        model[word1][word2] += 1\n",
    "    \n",
    "    for word1 in model:\n",
    "        for v in vocab:\n",
    "            model[word1][v] += 1\n",
    "    \n",
    "    return model, vocab\n",
    "\n",
    "def predict_next_word_bigram_addone(model, vocab, word):\n",
    "    if word not in model:\n",
    "        return None\n",
    "    \n",
    "    # The total count for this word is the sum of counts of all possible next words.\n",
    "    total_count = sum(model[word][w] for w in vocab)\n",
    "    \n",
    "    best_word = None\n",
    "    best_prob = 0.0\n",
    "    \n",
    "    # Calculate probability for each candidate next word in vocab.\n",
    "    for candidate_next in vocab:\n",
    "        # Probability = count(word -> candidate_next) / total_count\n",
    "        prob = model[word][candidate_next] / total_count\n",
    "        if prob > best_prob:\n",
    "            best_prob = prob\n",
    "            best_word = candidate_next\n",
    "    \n",
    "    return best_word"
   ]
  },
  {
   "cell_type": "code",
   "execution_count": 47,
   "id": "6ccb94f3",
   "metadata": {},
   "outputs": [
    {
     "name": "stdout",
     "output_type": "stream",
     "text": [
      "Add-One Bigram Accuracy on combined test set: 0.1097162697336299\n",
      "Original Bigram Accuracy on combined test set: 0.10879401074160473\n"
     ]
    }
   ],
   "source": [
    "# Building and evaluating the Add-One bigram model\n",
    "\n",
    "addone_bigram_model, addone_vocab = build_bigram_model_addone(train_tokens)\n",
    "\n",
    "def evaluate_bigram_accuracy_addone(model, vocab, test_tokens):\n",
    "    correct = 0\n",
    "    total = 0\n",
    "    \n",
    "    for i in range(len(test_tokens) - 1):\n",
    "        current_word = test_tokens[i]\n",
    "        actual_next = test_tokens[i + 1]\n",
    "        \n",
    "        # Use our new Add-One prediction function\n",
    "        predicted_next = predict_next_word_bigram_addone(model, vocab, current_word)\n",
    "        \n",
    "        # If the model can't predict anything, skip it (or treat it as incorrect).\n",
    "        if predicted_next is not None:\n",
    "            total += 1\n",
    "            if predicted_next == actual_next:\n",
    "                correct += 1\n",
    "    \n",
    "    if total == 0:\n",
    "        return 0.0\n",
    "    return correct / total\n",
    "\n",
    "# Evaluating on test data\n",
    "addone_bigram_acc = evaluate_bigram_accuracy_addone(addone_bigram_model, addone_vocab, test_tokens)\n",
    "print(\"Add-One Bigram Accuracy on combined test set:\", addone_bigram_acc)\n",
    "\n",
    "# Comparing to the original bigram model's accuracy\n",
    "print(\"Original Bigram Accuracy on combined test set:\", bigram_acc)"
   ]
  },
  {
   "cell_type": "code",
   "execution_count": null,
   "id": "be8f954c",
   "metadata": {},
   "outputs": [],
   "source": []
  }
 ],
 "metadata": {
  "kernelspec": {
   "display_name": "Python 3",
   "language": "python",
   "name": "python3"
  },
  "language_info": {
   "codemirror_mode": {
    "name": "ipython",
    "version": 3
   },
   "file_extension": ".py",
   "mimetype": "text/x-python",
   "name": "python",
   "nbconvert_exporter": "python",
   "pygments_lexer": "ipython3",
   "version": "3.8.8"
  }
 },
 "nbformat": 4,
 "nbformat_minor": 5
}
