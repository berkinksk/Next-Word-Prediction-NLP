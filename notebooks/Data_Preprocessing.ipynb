{
 "cells": [
  {
   "cell_type": "code",
   "execution_count": 1,
   "id": "ab20f0e5",
   "metadata": {},
   "outputs": [],
   "source": [
    "import re"
   ]
  },
  {
   "cell_type": "code",
   "execution_count": 2,
   "id": "5f19fe54",
   "metadata": {},
   "outputs": [
    {
     "name": "stdout",
     "output_type": "stream",
     "text": [
      "Length of text: 562202\n"
     ]
    }
   ],
   "source": [
    "with open('../data/sherlock_holmes.txt', 'r', encoding='utf-8') as file:\n",
    "    text = file.read()\n",
    "print(\"Length of text:\", len(text))"
   ]
  },
  {
   "cell_type": "code",
   "execution_count": 3,
   "id": "0be74029",
   "metadata": {},
   "outputs": [],
   "source": [
    "text = text.lower()"
   ]
  },
  {
   "cell_type": "code",
   "execution_count": 4,
   "id": "e132cc15",
   "metadata": {},
   "outputs": [
    {
     "name": "stdout",
     "output_type": "stream",
     "text": [
      "the adventures of sherlock holmes by arthur conan doyle contents i a scandal in bohemia ii the redheaded league iii a case of identity iv the boscombe valley mystery v the five orange pips vi the man with the twisted lip vii the adventure of the blue carbuncle viii the adventure of the speckled band ix the adventure of the engineers thumb x the adventure of the noble bachelor xi the adventure of the beryl coronet xii the adventure of the copper beeches i a scandal in bohemia i to sherlock holmes\n"
     ]
    }
   ],
   "source": [
    "text = re.sub(r\"[^a-z0-9'\\s]\", '', text)\n",
    "text = re.sub(r'\\s+', ' ', text).strip()\n",
    "print(text[:500])"
   ]
  },
  {
   "cell_type": "code",
   "execution_count": 5,
   "id": "23b9b006",
   "metadata": {},
   "outputs": [
    {
     "name": "stdout",
     "output_type": "stream",
     "text": [
      "Number of tokens: 104465\n",
      "First 20 tokens: ['the', 'adventures', 'of', 'sherlock', 'holmes', 'by', 'arthur', 'conan', 'doyle', 'contents', 'i', 'a', 'scandal', 'in', 'bohemia', 'ii', 'the', 'redheaded', 'league', 'iii']\n"
     ]
    }
   ],
   "source": [
    "tokens = text.split()\n",
    "print(\"Number of tokens:\", len(tokens))\n",
    "print(\"First 20 tokens:\", tokens[:20])"
   ]
  },
  {
   "cell_type": "code",
   "execution_count": 6,
   "id": "0b2fcf9f",
   "metadata": {},
   "outputs": [
    {
     "name": "stdout",
     "output_type": "stream",
     "text": [
      "['the', 'adventures', 'of', 'sherlock', 'holmes', 'by', 'arthur', 'conan', 'doyle', 'contents', 'i', 'a', 'scandal', 'in', 'bohemia', 'ii', 'the', 'redheaded', 'league', 'iii', 'a', 'case', 'of', 'identity', 'iv', 'the', 'boscombe', 'valley', 'mystery', 'v', 'the', 'five', 'orange', 'pips', 'vi', 'the', 'man', 'with', 'the', 'twisted', 'lip', 'vii', 'the', 'adventure', 'of', 'the', 'blue', 'carbuncle', 'viii', 'the']\n"
     ]
    }
   ],
   "source": [
    "print(tokens[:50])"
   ]
  },
  {
   "cell_type": "code",
   "execution_count": 7,
   "id": "b4da4f66",
   "metadata": {},
   "outputs": [],
   "source": [
    "import json\n",
    "\n",
    "with open('../data/cleaned_sherlock_tokens.json', 'w', encoding='utf-8') as outfile:\n",
    "    json.dump(tokens, outfile)"
   ]
  },
  {
   "cell_type": "code",
   "execution_count": 8,
   "id": "a4f6cdbf",
   "metadata": {},
   "outputs": [],
   "source": [
    "from collections import defaultdict, Counter\n",
    "\n",
    "def generate_bigrams(tokens):\n",
    "    bigrams = []\n",
    "    for i in range(len(tokens) - 1):\n",
    "        bigrams.append((tokens[i], tokens[i+1]))\n",
    "    return bigrams"
   ]
  },
  {
   "cell_type": "code",
   "execution_count": 9,
   "id": "075600da",
   "metadata": {},
   "outputs": [
    {
     "name": "stdout",
     "output_type": "stream",
     "text": [
      "First 10 bigrams: [('the', 'adventures'), ('adventures', 'of'), ('of', 'sherlock'), ('sherlock', 'holmes'), ('holmes', 'by'), ('by', 'arthur'), ('arthur', 'conan'), ('conan', 'doyle'), ('doyle', 'contents'), ('contents', 'i')]\n"
     ]
    }
   ],
   "source": [
    "bigrams = generate_bigrams(tokens)\n",
    "print(\"First 10 bigrams:\", bigrams[:10])"
   ]
  },
  {
   "cell_type": "code",
   "execution_count": 10,
   "id": "58af3148",
   "metadata": {},
   "outputs": [],
   "source": [
    "def build_bigram_model(tokens):\n",
    "    model = defaultdict(Counter)\n",
    "    bigrams = generate_bigrams(tokens)\n",
    "    for first, second in bigrams:\n",
    "        model[first][second] += 1\n",
    "    return model\n",
    "\n",
    "# Building the bigram model using tokens\n",
    "bigram_model = build_bigram_model(tokens)"
   ]
  },
  {
   "cell_type": "code",
   "execution_count": 11,
   "id": "3dea7e46",
   "metadata": {},
   "outputs": [
    {
     "name": "stdout",
     "output_type": "stream",
     "text": [
      "Prediction for 'sherlock': holmes\n"
     ]
    }
   ],
   "source": [
    "def predict_next_word(model, word):\n",
    "    if word in model:\n",
    "        return model[word].most_common(1)[0][0]\n",
    "    else:\n",
    "        return None\n",
    "\n",
    "# Testing the prediction function\n",
    "test_word = 'sherlock'\n",
    "predicted_word = predict_next_word(bigram_model, test_word)\n",
    "print(f\"Prediction for '{test_word}':\", predicted_word)\n"
   ]
  },
  {
   "cell_type": "code",
   "execution_count": 12,
   "id": "ff5046e4",
   "metadata": {},
   "outputs": [],
   "source": [
    "# Function to generate a sentence using bigram\n",
    "def generate_sentence(model, start_word, length=10):\n",
    "    sentence = [start_word]\n",
    "    current_word = start_word\n",
    "    \n",
    "    for i in range(length - 1):\n",
    "        next_word = predict_next_word(model, current_word)\n",
    "        if next_word is None:\n",
    "            break\n",
    "        sentence.append(next_word)\n",
    "        current_word = next_word\n",
    "    \n",
    "    return ' '.join(sentence)"
   ]
  },
  {
   "cell_type": "code",
   "execution_count": 13,
   "id": "9021f83c",
   "metadata": {},
   "outputs": [
    {
     "name": "stdout",
     "output_type": "stream",
     "text": [
      "Generated sentence: sherlock holmes i have been a little more than i\n"
     ]
    }
   ],
   "source": [
    "# Testing the sentence generation function.\n",
    "generated_sentence = generate_sentence(bigram_model, 'sherlock', 10)\n",
    "print(\"Generated sentence:\", generated_sentence)"
   ]
  },
  {
   "cell_type": "code",
   "execution_count": 14,
   "id": "7894e172",
   "metadata": {},
   "outputs": [
    {
     "data": {
      "image/png": "[encoded data removed]",
      "text/plain": [
       "<Figure size 576x288 with 1 Axes>"
      ]
     },
     "metadata": {
      "needs_background": "light"
     },
     "output_type": "display_data"
    }
   ],
   "source": [
    "import matplotlib.pyplot as plt\n",
    "\n",
    "def plot_prediction_distribution(model, word, top_n=5):\n",
    "    if word in model:\n",
    "        most_common = model[word].most_common(top_n)\n",
    "        words, counts = zip(*most_common)\n",
    "        \n",
    "        # Creating a bar chart\n",
    "        plt.figure(figsize=(8, 4))\n",
    "        plt.bar(words, counts, color='skyblue')\n",
    "        plt.title(f\"Top {top_n} Predictions for '{word}'\")\n",
    "        plt.xlabel(\"Predicted Words\")\n",
    "        plt.ylabel(\"Frequency\")\n",
    "        plt.show()\n",
    "    else:\n",
    "        print(f\"No predictions for '{word}' found in the model.\")\n",
    "\n",
    "# Testing the visualization function with the word 'sherlock'\n",
    "plot_prediction_distribution(bigram_model, 'sherlock')"
   ]
  },
  {
   "cell_type": "code",
   "execution_count": 22,
   "id": "09dd73ac",
   "metadata": {},
   "outputs": [
    {
     "name": "stdout",
     "output_type": "stream",
     "text": [
      "Enter a word to predict the next word: dr\n",
      "Predicted next word for 'dr': grimesby\n"
     ]
    }
   ],
   "source": [
    "# Interactive next-word prediction using the bigram model.\n",
    "\n",
    "# Prompt the user to enter a word.\n",
    "user_word = input(\"Enter a word to predict the next word: \").strip().lower()\n",
    "\n",
    "# Use the predict_next_word function from earlier.\n",
    "predicted = predict_next_word(bigram_model, user_word)\n",
    "\n",
    "# Check if a prediction was made and print the result.\n",
    "if predicted:\n",
    "    print(f\"Predicted next word for '{user_word}': {predicted}\")\n",
    "else:\n",
    "    print(f\"Sorry, no prediction available for the word '{user_word}'.\")"
   ]
  },
  {
   "cell_type": "code",
   "execution_count": null,
   "id": "92f29d48",
   "metadata": {},
   "outputs": [],
   "source": []
  },
  {
   "cell_type": "code",
   "execution_count": null,
   "id": "0b6fcb11",
   "metadata": {},
   "outputs": [],
   "source": []
  }
 ],
 "metadata": {
  "kernelspec": {
   "display_name": "Python 3",
   "language": "python",
   "name": "python3"
  },
  "language_info": {
   "codemirror_mode": {
    "name": "ipython",
    "version": 3
   },
   "file_extension": ".py",
   "mimetype": "text/x-python",
   "name": "python",
   "nbconvert_exporter": "python",
   "pygments_lexer": "ipython3",
   "version": "3.8.8"
  }
 },
 "nbformat": 4,
 "nbformat_minor": 5
}
