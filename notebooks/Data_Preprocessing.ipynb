{
 "cells": [
  {
   "cell_type": "code",
   "execution_count": 1,
   "id": "197abffc",
   "metadata": {},
   "outputs": [],
   "source": [
    "import re"
   ]
  },
  {
   "cell_type": "code",
   "execution_count": 2,
   "id": "9df2dc69",
   "metadata": {},
   "outputs": [
    {
     "name": "stdout",
     "output_type": "stream",
     "text": [
      "Length of text: 562202\n"
     ]
    }
   ],
   "source": [
    "with open('../data/sherlock_holmes.txt', 'r', encoding='utf-8') as file:\n",
    "    text = file.read()\n",
    "print(\"Length of text:\", len(text))"
   ]
  },
  {
   "cell_type": "code",
   "execution_count": 3,
   "id": "a56e00b8",
   "metadata": {},
   "outputs": [],
   "source": [
    "text = text.lower()"
   ]
  },
  {
   "cell_type": "code",
   "execution_count": 4,
   "id": "d63a34e4",
   "metadata": {},
   "outputs": [
    {
     "name": "stdout",
     "output_type": "stream",
     "text": [
      "the adventures of sherlock holmes by arthur conan doyle contents i a scandal in bohemia ii the redheaded league iii a case of identity iv the boscombe valley mystery v the five orange pips vi the man with the twisted lip vii the adventure of the blue carbuncle viii the adventure of the speckled band ix the adventure of the engineers thumb x the adventure of the noble bachelor xi the adventure of the beryl coronet xii the adventure of the copper beeches i a scandal in bohemia i to sherlock holmes\n"
     ]
    }
   ],
   "source": [
    "text = re.sub(r\"[^a-z0-9'\\s]\", '', text)\n",
    "text = re.sub(r'\\s+', ' ', text).strip()\n",
    "print(text[:500])"
   ]
  },
  {
   "cell_type": "code",
   "execution_count": 5,
   "id": "fec41c7d",
   "metadata": {},
   "outputs": [
    {
     "name": "stdout",
     "output_type": "stream",
     "text": [
      "Number of tokens: 104465\n",
      "First 20 tokens: ['the', 'adventures', 'of', 'sherlock', 'holmes', 'by', 'arthur', 'conan', 'doyle', 'contents', 'i', 'a', 'scandal', 'in', 'bohemia', 'ii', 'the', 'redheaded', 'league', 'iii']\n"
     ]
    }
   ],
   "source": [
    "tokens = text.split()\n",
    "print(\"Number of tokens:\", len(tokens))\n",
    "print(\"First 20 tokens:\", tokens[:20])"
   ]
  },
  {
   "cell_type": "code",
   "execution_count": 6,
   "id": "8c4db009",
   "metadata": {},
   "outputs": [
    {
     "name": "stdout",
     "output_type": "stream",
     "text": [
      "['the', 'adventures', 'of', 'sherlock', 'holmes', 'by', 'arthur', 'conan', 'doyle', 'contents', 'i', 'a', 'scandal', 'in', 'bohemia', 'ii', 'the', 'redheaded', 'league', 'iii', 'a', 'case', 'of', 'identity', 'iv', 'the', 'boscombe', 'valley', 'mystery', 'v', 'the', 'five', 'orange', 'pips', 'vi', 'the', 'man', 'with', 'the', 'twisted', 'lip', 'vii', 'the', 'adventure', 'of', 'the', 'blue', 'carbuncle', 'viii', 'the']\n"
     ]
    }
   ],
   "source": [
    "print(tokens[:50])"
   ]
  },
  {
   "cell_type": "code",
   "execution_count": 7,
   "id": "28e6518a",
   "metadata": {},
   "outputs": [],
   "source": [
    "import json\n",
    "\n",
    "with open('../data/cleaned_sherlock_tokens.json', 'w', encoding='utf-8') as outfile:\n",
    "    json.dump(tokens, outfile)"
   ]
  },
  {
   "cell_type": "code",
   "execution_count": 8,
   "id": "5c468fc2",
   "metadata": {},
   "outputs": [],
   "source": [
    "from collections import defaultdict, Counter\n",
    "\n",
    "def generate_bigrams(tokens):\n",
    "    bigrams = []\n",
    "    for i in range(len(tokens) - 1):\n",
    "        bigrams.append((tokens[i], tokens[i+1]))\n",
    "    return bigrams"
   ]
  },
  {
   "cell_type": "code",
   "execution_count": 9,
   "id": "95e82965",
   "metadata": {},
   "outputs": [
    {
     "name": "stdout",
     "output_type": "stream",
     "text": [
      "First 10 bigrams: [('the', 'adventures'), ('adventures', 'of'), ('of', 'sherlock'), ('sherlock', 'holmes'), ('holmes', 'by'), ('by', 'arthur'), ('arthur', 'conan'), ('conan', 'doyle'), ('doyle', 'contents'), ('contents', 'i')]\n"
     ]
    }
   ],
   "source": [
    "bigrams = generate_bigrams(tokens)\n",
    "print(\"First 10 bigrams:\", bigrams[:10])"
   ]
  },
  {
   "cell_type": "code",
   "execution_count": 10,
   "id": "4285301b",
   "metadata": {},
   "outputs": [],
   "source": [
    "def build_bigram_model(tokens):\n",
    "    model = defaultdict(Counter)\n",
    "    bigrams = generate_bigrams(tokens)\n",
    "    for first, second in bigrams:\n",
    "        model[first][second] += 1\n",
    "    return model\n",
    "\n",
    "# Building the bigram model using tokens\n",
    "bigram_model = build_bigram_model(tokens)"
   ]
  },
  {
   "cell_type": "code",
   "execution_count": 11,
   "id": "6c13788a",
   "metadata": {},
   "outputs": [
    {
     "name": "stdout",
     "output_type": "stream",
     "text": [
      "Prediction for 'sherlock': holmes\n"
     ]
    }
   ],
   "source": [
    "def predict_next_word(model, word):\n",
    "    if word in model:\n",
    "        return model[word].most_common(1)[0][0]\n",
    "    else:\n",
    "        return None\n",
    "\n",
    "# Testing the prediction function\n",
    "test_word = 'sherlock'\n",
    "predicted_word = predict_next_word(bigram_model, test_word)\n",
    "print(f\"Prediction for '{test_word}':\", predicted_word)\n"
   ]
  },
  {
   "cell_type": "code",
   "execution_count": null,
   "id": "099a5c6b",
   "metadata": {},
   "outputs": [],
   "source": []
  }
 ],
 "metadata": {
  "kernelspec": {
   "display_name": "Python 3",
   "language": "python",
   "name": "python3"
  },
  "language_info": {
   "codemirror_mode": {
    "name": "ipython",
    "version": 3
   },
   "file_extension": ".py",
   "mimetype": "text/x-python",
   "name": "python",
   "nbconvert_exporter": "python",
   "pygments_lexer": "ipython3",
   "version": "3.8.8"
  }
 },
 "nbformat": 4,
 "nbformat_minor": 5
}
